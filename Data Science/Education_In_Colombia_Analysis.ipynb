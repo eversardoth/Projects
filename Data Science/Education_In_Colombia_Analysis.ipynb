{
  "nbformat": 4,
  "nbformat_minor": 0,
  "metadata": {
    "colab": {
      "name": "Education_In_Colombia_Analysis.ipynb",
      "provenance": [],
      "collapsed_sections": []
    },
    "kernelspec": {
      "name": "python3",
      "display_name": "Python 3"
    },
    "language_info": {
      "name": "python"
    }
  },
  "cells": [
    {
      "cell_type": "markdown",
      "metadata": {
        "id": "JE36hr0kt9Ug"
      },
      "source": [
        "<h1 align='justify'><b>Correlation of state percentages of school dropout, approval, failure, and repetition with state percentages of internet access in Colombian educational institutions.<b><h1>\n",
        "\n",
        "\n",
        "<p align='justify'>Education is a basic human right and the foundation on which to build peace and drive sustainable development. Education enables individuals to build more prosperous and successful lives and societies to achieve economic prosperity and social welfare [1].<p>\n",
        "\n",
        "<p align='justify'>Access to the Internet is fundamental to achieving this vision for the future. It can improve the quality of education in many ways. It opens doorways to a wealth of information, knowledge and educational resources, increasing opportunities for learning in and beyond the classroom. Teachers use online materials to prepare lessons, and students to extend their range of learning. Interactive teaching methods, supported by the Internet, enable teachers to give more attention to individual students’ needs and support shared learning. This can help to rectify inequalities in education experienced by girls and women. Access to the Internet helps educational administrators to reduce the costs and improve the quality of schools and colleges [2].<p>\n",
        "\n",
        "<p align='justify'>The objective of this project is to identify if there exists a correlation between state percentages of school dropout, approval, failure, and repetition in Colombian educational institutions (pre, primary and secondary education) and state percentages of educational institutions' access to internet service.<p>\n",
        "\n",
        "\n",
        "\n",
        "---\n",
        "\n",
        "\n"
      ]
    },
    {
      "cell_type": "markdown",
      "metadata": {
        "id": "xzpVlT1waDzG"
      },
      "source": [
        "<p align='justify'>We start by importing and installing the relevant libraries. This project will use the libraries SciPy, Pandas, Matplotlib, Numpy, Plotly, Dash (a Plotly Framework to develop interactive web applications). and Jupyter Dash a library that lets you deploy dash applications directly in a Jupyter Notebook"
      ]
    },
    {
      "cell_type": "markdown",
      "metadata": {
        "id": "zV4cwwjKLKfc"
      },
      "source": [
        "\n",
        "\n",
        "---\n",
        "\n"
      ]
    },
    {
      "cell_type": "code",
      "metadata": {
        "id": "_bLjmVMv0UYc",
        "colab": {
          "base_uri": "https://localhost:8080/"
        },
        "outputId": "66046671-0403-4e49-e592-458ac391362d"
      },
      "source": [
        "# Imports libraries\n",
        "from scipy import stats\n",
        "import scipy\n",
        "import pandas as pd\n",
        "import matplotlib as mpl\n",
        "import matplotlib.pyplot as plt\n",
        "import numpy as np\n",
        "! pip install dash\n",
        "import plotly.express as px\n",
        "import dash\n",
        "import dash_html_components as html\n",
        "import dash_core_components as dcc\n",
        "from dash.dependencies import Input, Output\n",
        "! pip install jupyter-dash\n",
        "from jupyter_dash import JupyterDash"
      ],
      "execution_count": null,
      "outputs": [
        {
          "output_type": "stream",
          "name": "stdout",
          "text": [
            "Requirement already satisfied: dash in /usr/local/lib/python3.7/dist-packages (2.0.0)\n",
            "Requirement already satisfied: Flask>=1.0.4 in /usr/local/lib/python3.7/dist-packages (from dash) (1.1.4)\n",
            "Requirement already satisfied: dash-table==5.0.0 in /usr/local/lib/python3.7/dist-packages (from dash) (5.0.0)\n",
            "Requirement already satisfied: flask-compress in /usr/local/lib/python3.7/dist-packages (from dash) (1.10.1)\n",
            "Requirement already satisfied: plotly>=5.0.0 in /usr/local/lib/python3.7/dist-packages (from dash) (5.3.1)\n",
            "Requirement already satisfied: dash-html-components==2.0.0 in /usr/local/lib/python3.7/dist-packages (from dash) (2.0.0)\n",
            "Requirement already satisfied: dash-core-components==2.0.0 in /usr/local/lib/python3.7/dist-packages (from dash) (2.0.0)\n",
            "Requirement already satisfied: click<8.0,>=5.1 in /usr/local/lib/python3.7/dist-packages (from Flask>=1.0.4->dash) (7.1.2)\n",
            "Requirement already satisfied: itsdangerous<2.0,>=0.24 in /usr/local/lib/python3.7/dist-packages (from Flask>=1.0.4->dash) (1.1.0)\n",
            "Requirement already satisfied: Jinja2<3.0,>=2.10.1 in /usr/local/lib/python3.7/dist-packages (from Flask>=1.0.4->dash) (2.11.3)\n",
            "Requirement already satisfied: Werkzeug<2.0,>=0.15 in /usr/local/lib/python3.7/dist-packages (from Flask>=1.0.4->dash) (1.0.1)\n",
            "Requirement already satisfied: MarkupSafe>=0.23 in /usr/local/lib/python3.7/dist-packages (from Jinja2<3.0,>=2.10.1->Flask>=1.0.4->dash) (2.0.1)\n",
            "Requirement already satisfied: tenacity>=6.2.0 in /usr/local/lib/python3.7/dist-packages (from plotly>=5.0.0->dash) (8.0.1)\n",
            "Requirement already satisfied: six in /usr/local/lib/python3.7/dist-packages (from plotly>=5.0.0->dash) (1.15.0)\n",
            "Requirement already satisfied: brotli in /usr/local/lib/python3.7/dist-packages (from flask-compress->dash) (1.0.9)\n",
            "Requirement already satisfied: jupyter-dash in /usr/local/lib/python3.7/dist-packages (0.4.0)\n",
            "Requirement already satisfied: ansi2html in /usr/local/lib/python3.7/dist-packages (from jupyter-dash) (1.6.0)\n",
            "Requirement already satisfied: requests in /usr/local/lib/python3.7/dist-packages (from jupyter-dash) (2.23.0)\n",
            "Requirement already satisfied: retrying in /usr/local/lib/python3.7/dist-packages (from jupyter-dash) (1.3.3)\n",
            "Requirement already satisfied: flask in /usr/local/lib/python3.7/dist-packages (from jupyter-dash) (1.1.4)\n",
            "Requirement already satisfied: dash in /usr/local/lib/python3.7/dist-packages (from jupyter-dash) (2.0.0)\n",
            "Requirement already satisfied: ipykernel in /usr/local/lib/python3.7/dist-packages (from jupyter-dash) (4.10.1)\n",
            "Requirement already satisfied: ipython in /usr/local/lib/python3.7/dist-packages (from jupyter-dash) (5.5.0)\n",
            "Requirement already satisfied: dash-html-components==2.0.0 in /usr/local/lib/python3.7/dist-packages (from dash->jupyter-dash) (2.0.0)\n",
            "Requirement already satisfied: plotly>=5.0.0 in /usr/local/lib/python3.7/dist-packages (from dash->jupyter-dash) (5.3.1)\n",
            "Requirement already satisfied: dash-table==5.0.0 in /usr/local/lib/python3.7/dist-packages (from dash->jupyter-dash) (5.0.0)\n",
            "Requirement already satisfied: dash-core-components==2.0.0 in /usr/local/lib/python3.7/dist-packages (from dash->jupyter-dash) (2.0.0)\n",
            "Requirement already satisfied: flask-compress in /usr/local/lib/python3.7/dist-packages (from dash->jupyter-dash) (1.10.1)\n",
            "Requirement already satisfied: click<8.0,>=5.1 in /usr/local/lib/python3.7/dist-packages (from flask->jupyter-dash) (7.1.2)\n",
            "Requirement already satisfied: Werkzeug<2.0,>=0.15 in /usr/local/lib/python3.7/dist-packages (from flask->jupyter-dash) (1.0.1)\n",
            "Requirement already satisfied: itsdangerous<2.0,>=0.24 in /usr/local/lib/python3.7/dist-packages (from flask->jupyter-dash) (1.1.0)\n",
            "Requirement already satisfied: Jinja2<3.0,>=2.10.1 in /usr/local/lib/python3.7/dist-packages (from flask->jupyter-dash) (2.11.3)\n",
            "Requirement already satisfied: MarkupSafe>=0.23 in /usr/local/lib/python3.7/dist-packages (from Jinja2<3.0,>=2.10.1->flask->jupyter-dash) (2.0.1)\n",
            "Requirement already satisfied: tenacity>=6.2.0 in /usr/local/lib/python3.7/dist-packages (from plotly>=5.0.0->dash->jupyter-dash) (8.0.1)\n",
            "Requirement already satisfied: six in /usr/local/lib/python3.7/dist-packages (from plotly>=5.0.0->dash->jupyter-dash) (1.15.0)\n",
            "Requirement already satisfied: brotli in /usr/local/lib/python3.7/dist-packages (from flask-compress->dash->jupyter-dash) (1.0.9)\n",
            "Requirement already satisfied: tornado>=4.0 in /usr/local/lib/python3.7/dist-packages (from ipykernel->jupyter-dash) (5.1.1)\n",
            "Requirement already satisfied: jupyter-client in /usr/local/lib/python3.7/dist-packages (from ipykernel->jupyter-dash) (5.3.5)\n",
            "Requirement already satisfied: traitlets>=4.1.0 in /usr/local/lib/python3.7/dist-packages (from ipykernel->jupyter-dash) (5.1.0)\n",
            "Requirement already satisfied: pygments in /usr/local/lib/python3.7/dist-packages (from ipython->jupyter-dash) (2.6.1)\n",
            "Requirement already satisfied: pexpect in /usr/local/lib/python3.7/dist-packages (from ipython->jupyter-dash) (4.8.0)\n",
            "Requirement already satisfied: prompt-toolkit<2.0.0,>=1.0.4 in /usr/local/lib/python3.7/dist-packages (from ipython->jupyter-dash) (1.0.18)\n",
            "Requirement already satisfied: decorator in /usr/local/lib/python3.7/dist-packages (from ipython->jupyter-dash) (4.4.2)\n",
            "Requirement already satisfied: simplegeneric>0.8 in /usr/local/lib/python3.7/dist-packages (from ipython->jupyter-dash) (0.8.1)\n",
            "Requirement already satisfied: pickleshare in /usr/local/lib/python3.7/dist-packages (from ipython->jupyter-dash) (0.7.5)\n",
            "Requirement already satisfied: setuptools>=18.5 in /usr/local/lib/python3.7/dist-packages (from ipython->jupyter-dash) (57.4.0)\n",
            "Requirement already satisfied: wcwidth in /usr/local/lib/python3.7/dist-packages (from prompt-toolkit<2.0.0,>=1.0.4->ipython->jupyter-dash) (0.2.5)\n",
            "Requirement already satisfied: jupyter-core>=4.6.0 in /usr/local/lib/python3.7/dist-packages (from jupyter-client->ipykernel->jupyter-dash) (4.7.1)\n",
            "Requirement already satisfied: python-dateutil>=2.1 in /usr/local/lib/python3.7/dist-packages (from jupyter-client->ipykernel->jupyter-dash) (2.8.2)\n",
            "Requirement already satisfied: pyzmq>=13 in /usr/local/lib/python3.7/dist-packages (from jupyter-client->ipykernel->jupyter-dash) (22.3.0)\n",
            "Requirement already satisfied: ptyprocess>=0.5 in /usr/local/lib/python3.7/dist-packages (from pexpect->ipython->jupyter-dash) (0.7.0)\n",
            "Requirement already satisfied: chardet<4,>=3.0.2 in /usr/local/lib/python3.7/dist-packages (from requests->jupyter-dash) (3.0.4)\n",
            "Requirement already satisfied: idna<3,>=2.5 in /usr/local/lib/python3.7/dist-packages (from requests->jupyter-dash) (2.10)\n",
            "Requirement already satisfied: urllib3!=1.25.0,!=1.25.1,<1.26,>=1.21.1 in /usr/local/lib/python3.7/dist-packages (from requests->jupyter-dash) (1.24.3)\n",
            "Requirement already satisfied: certifi>=2017.4.17 in /usr/local/lib/python3.7/dist-packages (from requests->jupyter-dash) (2021.5.30)\n"
          ]
        }
      ]
    },
    {
      "cell_type": "markdown",
      "metadata": {
        "id": "d1WH_ajRbo6T"
      },
      "source": [
        "<p align='justify'>The next step is to read/import the dataset, and print its first rows to take a look at the data. This dataset is published by the Colombian government, and it contains the main indicators of preschool, basic and secondary levels, discriminated by State from the year 2011 to 2020. For more information on the dataset you can visit the link: https://www.datos.gov.co/Educaci-n/MEN_ESTADISTICAS_EN_EDUCACION_EN_PREESCOLAR-B-SICA/ji8i-4anb<p>"
      ]
    },
    {
      "cell_type": "code",
      "metadata": {
        "colab": {
          "base_uri": "https://localhost:8080/",
          "height": 226
        },
        "id": "RBGtobBf4CXU",
        "outputId": "e9dc5003-c8d6-4269-9102-7b8a2268632f"
      },
      "source": [
        "#Imports Data\n",
        "\n",
        "education_df = pd.read_csv('https://www.datos.gov.co/resource/ji8i-4anb.csv')\n",
        "\n",
        "#Prints initial rows\n",
        "education_df.head()"
      ],
      "execution_count": null,
      "outputs": [
        {
          "output_type": "execute_result",
          "data": {
            "text/html": [
              "<div>\n",
              "<style scoped>\n",
              "    .dataframe tbody tr th:only-of-type {\n",
              "        vertical-align: middle;\n",
              "    }\n",
              "\n",
              "    .dataframe tbody tr th {\n",
              "        vertical-align: top;\n",
              "    }\n",
              "\n",
              "    .dataframe thead th {\n",
              "        text-align: right;\n",
              "    }\n",
              "</style>\n",
              "<table border=\"1\" class=\"dataframe\">\n",
              "  <thead>\n",
              "    <tr style=\"text-align: right;\">\n",
              "      <th></th>\n",
              "      <th>ano</th>\n",
              "      <th>c_digo_departamento</th>\n",
              "      <th>departamento</th>\n",
              "      <th>poblacion_5_16</th>\n",
              "      <th>tasa_matriculacion_5_16</th>\n",
              "      <th>cobertura_neta</th>\n",
              "      <th>cobertura_neta_transicion</th>\n",
              "      <th>cobertura_neta_primaria</th>\n",
              "      <th>cobertura_neta_secundaria</th>\n",
              "      <th>cobertura_neta_media</th>\n",
              "      <th>cobertura_bruta</th>\n",
              "      <th>cobertura_bruta_transicion</th>\n",
              "      <th>cobertura_bruta_primaria</th>\n",
              "      <th>cobertura_bruta_secundaria</th>\n",
              "      <th>cobertura_bruta_media</th>\n",
              "      <th>tamano_promedio_grupo</th>\n",
              "      <th>sedes_conectadas_a_internet</th>\n",
              "      <th>desercion</th>\n",
              "      <th>desercion_transicion</th>\n",
              "      <th>desercion_primaria</th>\n",
              "      <th>desercion_secundaria</th>\n",
              "      <th>desercion_media</th>\n",
              "      <th>aprobacion</th>\n",
              "      <th>aprobacion_transicion</th>\n",
              "      <th>aprobacion_primaria</th>\n",
              "      <th>aprobacion_secundaria</th>\n",
              "      <th>aprobacion_media</th>\n",
              "      <th>reprobacion</th>\n",
              "      <th>reprobacion_transicion</th>\n",
              "      <th>reprobacion_primaria</th>\n",
              "      <th>reprobacion_secundaria</th>\n",
              "      <th>reprobacion_media</th>\n",
              "      <th>repitencia</th>\n",
              "      <th>repitencia_transicion</th>\n",
              "      <th>repitencia_primaria</th>\n",
              "      <th>repitencia_secundaria</th>\n",
              "      <th>repitencia_media</th>\n",
              "    </tr>\n",
              "  </thead>\n",
              "  <tbody>\n",
              "    <tr>\n",
              "      <th>0</th>\n",
              "      <td>2011</td>\n",
              "      <td>5</td>\n",
              "      <td>Antioquia</td>\n",
              "      <td>1288473</td>\n",
              "      <td>94.01</td>\n",
              "      <td>93.85</td>\n",
              "      <td>70.28</td>\n",
              "      <td>94.12</td>\n",
              "      <td>75.68</td>\n",
              "      <td>44.37</td>\n",
              "      <td>106.81</td>\n",
              "      <td>85.69</td>\n",
              "      <td>117.50</td>\n",
              "      <td>110.81</td>\n",
              "      <td>84.06</td>\n",
              "      <td>27.47</td>\n",
              "      <td>74.48</td>\n",
              "      <td>3.97</td>\n",
              "      <td>3.62</td>\n",
              "      <td>3.65</td>\n",
              "      <td>4.57</td>\n",
              "      <td>3.71</td>\n",
              "      <td>93.98</td>\n",
              "      <td>96.31</td>\n",
              "      <td>94.56</td>\n",
              "      <td>92.89</td>\n",
              "      <td>93.33</td>\n",
              "      <td>2.06</td>\n",
              "      <td>0.07</td>\n",
              "      <td>1.80</td>\n",
              "      <td>2.54</td>\n",
              "      <td>2.96</td>\n",
              "      <td>4.25</td>\n",
              "      <td>0.07</td>\n",
              "      <td>4.56</td>\n",
              "      <td>5.27</td>\n",
              "      <td>1.68</td>\n",
              "    </tr>\n",
              "    <tr>\n",
              "      <th>1</th>\n",
              "      <td>2011</td>\n",
              "      <td>8</td>\n",
              "      <td>Atlántico</td>\n",
              "      <td>523935</td>\n",
              "      <td>99.32</td>\n",
              "      <td>99.05</td>\n",
              "      <td>50.59</td>\n",
              "      <td>98.93</td>\n",
              "      <td>80.22</td>\n",
              "      <td>50.17</td>\n",
              "      <td>107.88</td>\n",
              "      <td>84.19</td>\n",
              "      <td>120.41</td>\n",
              "      <td>107.89</td>\n",
              "      <td>87.98</td>\n",
              "      <td>24.42</td>\n",
              "      <td>80.46</td>\n",
              "      <td>2.76</td>\n",
              "      <td>2.60</td>\n",
              "      <td>3.06</td>\n",
              "      <td>2.42</td>\n",
              "      <td>2.61</td>\n",
              "      <td>96.70</td>\n",
              "      <td>97.28</td>\n",
              "      <td>96.49</td>\n",
              "      <td>96.91</td>\n",
              "      <td>96.64</td>\n",
              "      <td>0.54</td>\n",
              "      <td>0.12</td>\n",
              "      <td>0.45</td>\n",
              "      <td>0.67</td>\n",
              "      <td>0.75</td>\n",
              "      <td>1.82</td>\n",
              "      <td>0.12</td>\n",
              "      <td>1.77</td>\n",
              "      <td>2.18</td>\n",
              "      <td>0.88</td>\n",
              "    </tr>\n",
              "    <tr>\n",
              "      <th>2</th>\n",
              "      <td>2011</td>\n",
              "      <td>11</td>\n",
              "      <td>Bogotá, D.C.</td>\n",
              "      <td>1479334</td>\n",
              "      <td>90.70</td>\n",
              "      <td>90.29</td>\n",
              "      <td>68.63</td>\n",
              "      <td>86.99</td>\n",
              "      <td>84.70</td>\n",
              "      <td>55.01</td>\n",
              "      <td>97.78</td>\n",
              "      <td>82.04</td>\n",
              "      <td>97.94</td>\n",
              "      <td>106.48</td>\n",
              "      <td>87.76</td>\n",
              "      <td>26.75</td>\n",
              "      <td>94.21</td>\n",
              "      <td>3.95</td>\n",
              "      <td>10.05</td>\n",
              "      <td>5.30</td>\n",
              "      <td>1.96</td>\n",
              "      <td>2.55</td>\n",
              "      <td>96.05</td>\n",
              "      <td>89.95</td>\n",
              "      <td>94.69</td>\n",
              "      <td>98.04</td>\n",
              "      <td>97.45</td>\n",
              "      <td>0.00</td>\n",
              "      <td>0.00</td>\n",
              "      <td>0.00</td>\n",
              "      <td>0.00</td>\n",
              "      <td>0.00</td>\n",
              "      <td>3.23</td>\n",
              "      <td>0.00</td>\n",
              "      <td>2.30</td>\n",
              "      <td>5.11</td>\n",
              "      <td>2.57</td>\n",
              "    </tr>\n",
              "    <tr>\n",
              "      <th>3</th>\n",
              "      <td>2011</td>\n",
              "      <td>13</td>\n",
              "      <td>Bolívar</td>\n",
              "      <td>496676</td>\n",
              "      <td>91.57</td>\n",
              "      <td>91.40</td>\n",
              "      <td>59.74</td>\n",
              "      <td>90.81</td>\n",
              "      <td>67.34</td>\n",
              "      <td>39.17</td>\n",
              "      <td>110.41</td>\n",
              "      <td>98.82</td>\n",
              "      <td>126.45</td>\n",
              "      <td>108.15</td>\n",
              "      <td>80.64</td>\n",
              "      <td>20.80</td>\n",
              "      <td>30.12</td>\n",
              "      <td>3.14</td>\n",
              "      <td>1.85</td>\n",
              "      <td>2.93</td>\n",
              "      <td>3.79</td>\n",
              "      <td>3.13</td>\n",
              "      <td>94.76</td>\n",
              "      <td>97.68</td>\n",
              "      <td>95.48</td>\n",
              "      <td>93.46</td>\n",
              "      <td>93.20</td>\n",
              "      <td>2.10</td>\n",
              "      <td>0.46</td>\n",
              "      <td>1.59</td>\n",
              "      <td>2.75</td>\n",
              "      <td>3.67</td>\n",
              "      <td>4.43</td>\n",
              "      <td>0.46</td>\n",
              "      <td>4.44</td>\n",
              "      <td>5.37</td>\n",
              "      <td>2.28</td>\n",
              "    </tr>\n",
              "    <tr>\n",
              "      <th>4</th>\n",
              "      <td>2011</td>\n",
              "      <td>15</td>\n",
              "      <td>Boyacá</td>\n",
              "      <td>300501</td>\n",
              "      <td>86.16</td>\n",
              "      <td>86.11</td>\n",
              "      <td>63.36</td>\n",
              "      <td>82.50</td>\n",
              "      <td>74.65</td>\n",
              "      <td>49.09</td>\n",
              "      <td>104.15</td>\n",
              "      <td>78.87</td>\n",
              "      <td>99.88</td>\n",
              "      <td>119.78</td>\n",
              "      <td>94.76</td>\n",
              "      <td>22.77</td>\n",
              "      <td>25.26</td>\n",
              "      <td>3.07</td>\n",
              "      <td>2.40</td>\n",
              "      <td>2.24</td>\n",
              "      <td>4.03</td>\n",
              "      <td>3.51</td>\n",
              "      <td>94.20</td>\n",
              "      <td>97.43</td>\n",
              "      <td>96.10</td>\n",
              "      <td>91.66</td>\n",
              "      <td>93.23</td>\n",
              "      <td>2.73</td>\n",
              "      <td>0.17</td>\n",
              "      <td>1.66</td>\n",
              "      <td>4.31</td>\n",
              "      <td>3.26</td>\n",
              "      <td>2.62</td>\n",
              "      <td>0.17</td>\n",
              "      <td>1.90</td>\n",
              "      <td>4.19</td>\n",
              "      <td>1.55</td>\n",
              "    </tr>\n",
              "  </tbody>\n",
              "</table>\n",
              "</div>"
            ],
            "text/plain": [
              "    ano  c_digo_departamento  ... repitencia_secundaria  repitencia_media\n",
              "0  2011                    5  ...                  5.27              1.68\n",
              "1  2011                    8  ...                  2.18              0.88\n",
              "2  2011                   11  ...                  5.11              2.57\n",
              "3  2011                   13  ...                  5.37              2.28\n",
              "4  2011                   15  ...                  4.19              1.55\n",
              "\n",
              "[5 rows x 37 columns]"
            ]
          },
          "metadata": {},
          "execution_count": 20
        }
      ]
    },
    {
      "cell_type": "markdown",
      "metadata": {
        "id": "5mXGMQtVfG1d"
      },
      "source": [
        "<p align='justify'>The dataset contains observations discriminated by state and year, and a large amount of educational indicators. In order to have a better grip of the nature of the dataset, it's necessary to identify how many columns there are, what type of data stores each one of them, and the quantity of invalid data in each one of them.<p>"
      ]
    },
    {
      "cell_type": "code",
      "metadata": {
        "colab": {
          "base_uri": "https://localhost:8080/"
        },
        "id": "X7a-W5vs-TbE",
        "outputId": "74691be9-2fa7-4d85-aec1-88cdc68bb3d0"
      },
      "source": [
        "#Shows columns, non-null count, and data types\n",
        "education_df.info()"
      ],
      "execution_count": null,
      "outputs": [
        {
          "output_type": "stream",
          "name": "stdout",
          "text": [
            "<class 'pandas.core.frame.DataFrame'>\n",
            "RangeIndex: 330 entries, 0 to 329\n",
            "Data columns (total 37 columns):\n",
            " #   Column                       Non-Null Count  Dtype  \n",
            "---  ------                       --------------  -----  \n",
            " 0   ano                          330 non-null    int64  \n",
            " 1   c_digo_departamento          330 non-null    int64  \n",
            " 2   departamento                 330 non-null    object \n",
            " 3   poblacion_5_16               330 non-null    int64  \n",
            " 4   tasa_matriculacion_5_16      330 non-null    float64\n",
            " 5   cobertura_neta               330 non-null    float64\n",
            " 6   cobertura_neta_transicion    330 non-null    float64\n",
            " 7   cobertura_neta_primaria      330 non-null    float64\n",
            " 8   cobertura_neta_secundaria    330 non-null    float64\n",
            " 9   cobertura_neta_media         330 non-null    float64\n",
            " 10  cobertura_bruta              330 non-null    float64\n",
            " 11  cobertura_bruta_transicion   330 non-null    float64\n",
            " 12  cobertura_bruta_primaria     330 non-null    float64\n",
            " 13  cobertura_bruta_secundaria   330 non-null    float64\n",
            " 14  cobertura_bruta_media        330 non-null    float64\n",
            " 15  tamano_promedio_grupo        231 non-null    float64\n",
            " 16  sedes_conectadas_a_internet  231 non-null    float64\n",
            " 17  desercion                    330 non-null    float64\n",
            " 18  desercion_transicion         329 non-null    float64\n",
            " 19  desercion_primaria           330 non-null    float64\n",
            " 20  desercion_secundaria         330 non-null    float64\n",
            " 21  desercion_media              330 non-null    float64\n",
            " 22  aprobacion                   330 non-null    float64\n",
            " 23  aprobacion_transicion        330 non-null    float64\n",
            " 24  aprobacion_primaria          330 non-null    float64\n",
            " 25  aprobacion_secundaria        330 non-null    float64\n",
            " 26  aprobacion_media             330 non-null    float64\n",
            " 27  reprobacion                  330 non-null    float64\n",
            " 28  reprobacion_transicion       330 non-null    float64\n",
            " 29  reprobacion_primaria         330 non-null    float64\n",
            " 30  reprobacion_secundaria       330 non-null    float64\n",
            " 31  reprobacion_media            330 non-null    float64\n",
            " 32  repitencia                   330 non-null    float64\n",
            " 33  repitencia_transicion        330 non-null    float64\n",
            " 34  repitencia_primaria          330 non-null    float64\n",
            " 35  repitencia_secundaria        330 non-null    float64\n",
            " 36  repitencia_media             330 non-null    float64\n",
            "dtypes: float64(33), int64(3), object(1)\n",
            "memory usage: 95.5+ KB\n"
          ]
        }
      ]
    },
    {
      "cell_type": "markdown",
      "metadata": {
        "id": "tkUhTWDIiEKe"
      },
      "source": [
        "<p align='justify'>The dataset has 37 columns, and the interest variables seem to locate from column 16 to 36. All the indicator columns store elements of type float64, and only the interest variables 'sedes_conectadas_a_internet' y 'desercion_transicion' have null or invalid values.<p>\n",
        "\n",
        "<p align='justify'>For an initial correlation analysis, it would be adequate to use undiscriminated by education level indicators, namely 'desercion'-dropout percentage (index=17), 'aprobacion'-approval percentage (index=22), 'reprobacion'-failure percentage (index=27), y 'repitencia'-repetition percentage (index=32).<p>\n",
        "\n",
        "<p align='justify'>In order to lower the size of the dataframe, undiscriminated educational indicators along with 'ano'-year and 'c_digo_departamento'-state code will be selected.<p>"
      ]
    },
    {
      "cell_type": "code",
      "metadata": {
        "id": "9KmUiR3MEpBn"
      },
      "source": [
        "#Selects relevant columns\n",
        "\n",
        "education_resume_df = education_df.loc[:,['ano','c_digo_departamento','departamento','sedes_conectadas_a_internet','desercion','aprobacion','reprobacion','repitencia']]"
      ],
      "execution_count": null,
      "outputs": []
    },
    {
      "cell_type": "markdown",
      "metadata": {
        "id": "DxHx7Mjy3e60"
      },
      "source": [
        "Adittionally, it's necessary to manage the invalid data. "
      ]
    },
    {
      "cell_type": "code",
      "metadata": {
        "id": "p7ou0PaXJy1a",
        "colab": {
          "base_uri": "https://localhost:8080/",
          "height": 423
        },
        "outputId": "e8f0726d-1dee-4069-8a1a-2989d1d3d843"
      },
      "source": [
        "#Select rows where independent variable sedes_conectadas_a_internet is NaN\n",
        "\n",
        "education_resume_df[np.isnan(education_resume_df['sedes_conectadas_a_internet'])]"
      ],
      "execution_count": null,
      "outputs": [
        {
          "output_type": "execute_result",
          "data": {
            "text/html": [
              "<div>\n",
              "<style scoped>\n",
              "    .dataframe tbody tr th:only-of-type {\n",
              "        vertical-align: middle;\n",
              "    }\n",
              "\n",
              "    .dataframe tbody tr th {\n",
              "        vertical-align: top;\n",
              "    }\n",
              "\n",
              "    .dataframe thead th {\n",
              "        text-align: right;\n",
              "    }\n",
              "</style>\n",
              "<table border=\"1\" class=\"dataframe\">\n",
              "  <thead>\n",
              "    <tr style=\"text-align: right;\">\n",
              "      <th></th>\n",
              "      <th>ano</th>\n",
              "      <th>c_digo_departamento</th>\n",
              "      <th>departamento</th>\n",
              "      <th>sedes_conectadas_a_internet</th>\n",
              "      <th>desercion</th>\n",
              "      <th>aprobacion</th>\n",
              "      <th>reprobacion</th>\n",
              "      <th>repitencia</th>\n",
              "    </tr>\n",
              "  </thead>\n",
              "  <tbody>\n",
              "    <tr>\n",
              "      <th>231</th>\n",
              "      <td>2018</td>\n",
              "      <td>5</td>\n",
              "      <td>Antioquia</td>\n",
              "      <td>NaN</td>\n",
              "      <td>3.97</td>\n",
              "      <td>89.13</td>\n",
              "      <td>6.91</td>\n",
              "      <td>3.13</td>\n",
              "    </tr>\n",
              "    <tr>\n",
              "      <th>232</th>\n",
              "      <td>2018</td>\n",
              "      <td>8</td>\n",
              "      <td>Atlántico</td>\n",
              "      <td>NaN</td>\n",
              "      <td>1.55</td>\n",
              "      <td>93.57</td>\n",
              "      <td>4.88</td>\n",
              "      <td>0.74</td>\n",
              "    </tr>\n",
              "    <tr>\n",
              "      <th>233</th>\n",
              "      <td>2018</td>\n",
              "      <td>11</td>\n",
              "      <td>Bogotá, D.C.</td>\n",
              "      <td>NaN</td>\n",
              "      <td>1.65</td>\n",
              "      <td>98.02</td>\n",
              "      <td>0.33</td>\n",
              "      <td>0.33</td>\n",
              "    </tr>\n",
              "    <tr>\n",
              "      <th>234</th>\n",
              "      <td>2018</td>\n",
              "      <td>13</td>\n",
              "      <td>Bolívar</td>\n",
              "      <td>NaN</td>\n",
              "      <td>2.75</td>\n",
              "      <td>90.31</td>\n",
              "      <td>6.93</td>\n",
              "      <td>3.82</td>\n",
              "    </tr>\n",
              "    <tr>\n",
              "      <th>235</th>\n",
              "      <td>2018</td>\n",
              "      <td>15</td>\n",
              "      <td>Boyacá</td>\n",
              "      <td>NaN</td>\n",
              "      <td>2.07</td>\n",
              "      <td>92.59</td>\n",
              "      <td>5.34</td>\n",
              "      <td>1.69</td>\n",
              "    </tr>\n",
              "    <tr>\n",
              "      <th>...</th>\n",
              "      <td>...</td>\n",
              "      <td>...</td>\n",
              "      <td>...</td>\n",
              "      <td>...</td>\n",
              "      <td>...</td>\n",
              "      <td>...</td>\n",
              "      <td>...</td>\n",
              "      <td>...</td>\n",
              "    </tr>\n",
              "    <tr>\n",
              "      <th>325</th>\n",
              "      <td>2020</td>\n",
              "      <td>91</td>\n",
              "      <td>Amazonas</td>\n",
              "      <td>NaN</td>\n",
              "      <td>2.37</td>\n",
              "      <td>88.72</td>\n",
              "      <td>8.91</td>\n",
              "      <td>10.00</td>\n",
              "    </tr>\n",
              "    <tr>\n",
              "      <th>326</th>\n",
              "      <td>2020</td>\n",
              "      <td>94</td>\n",
              "      <td>Guainía</td>\n",
              "      <td>NaN</td>\n",
              "      <td>3.53</td>\n",
              "      <td>81.46</td>\n",
              "      <td>15.01</td>\n",
              "      <td>10.50</td>\n",
              "    </tr>\n",
              "    <tr>\n",
              "      <th>327</th>\n",
              "      <td>2020</td>\n",
              "      <td>95</td>\n",
              "      <td>Guaviare</td>\n",
              "      <td>NaN</td>\n",
              "      <td>4.41</td>\n",
              "      <td>86.67</td>\n",
              "      <td>8.92</td>\n",
              "      <td>6.04</td>\n",
              "    </tr>\n",
              "    <tr>\n",
              "      <th>328</th>\n",
              "      <td>2020</td>\n",
              "      <td>97</td>\n",
              "      <td>Vaupés</td>\n",
              "      <td>NaN</td>\n",
              "      <td>2.54</td>\n",
              "      <td>81.18</td>\n",
              "      <td>16.28</td>\n",
              "      <td>7.15</td>\n",
              "    </tr>\n",
              "    <tr>\n",
              "      <th>329</th>\n",
              "      <td>2020</td>\n",
              "      <td>99</td>\n",
              "      <td>Vichada</td>\n",
              "      <td>NaN</td>\n",
              "      <td>3.07</td>\n",
              "      <td>84.08</td>\n",
              "      <td>12.85</td>\n",
              "      <td>14.44</td>\n",
              "    </tr>\n",
              "  </tbody>\n",
              "</table>\n",
              "<p>99 rows × 8 columns</p>\n",
              "</div>"
            ],
            "text/plain": [
              "      ano  c_digo_departamento  ... reprobacion  repitencia\n",
              "231  2018                    5  ...        6.91        3.13\n",
              "232  2018                    8  ...        4.88        0.74\n",
              "233  2018                   11  ...        0.33        0.33\n",
              "234  2018                   13  ...        6.93        3.82\n",
              "235  2018                   15  ...        5.34        1.69\n",
              "..    ...                  ...  ...         ...         ...\n",
              "325  2020                   91  ...        8.91       10.00\n",
              "326  2020                   94  ...       15.01       10.50\n",
              "327  2020                   95  ...        8.92        6.04\n",
              "328  2020                   97  ...       16.28        7.15\n",
              "329  2020                   99  ...       12.85       14.44\n",
              "\n",
              "[99 rows x 8 columns]"
            ]
          },
          "metadata": {},
          "execution_count": 23
        }
      ]
    },
    {
      "cell_type": "markdown",
      "metadata": {
        "id": "rMqDMSP_55HU"
      },
      "source": [
        "<p align='justify'>These incomplete observations date from 2018 to 2020. Since a value of the variable 'sedes_conectadas_a_internet' can not be inferred, these observations will be discarded."
      ]
    },
    {
      "cell_type": "code",
      "metadata": {
        "colab": {
          "base_uri": "https://localhost:8080/"
        },
        "id": "9HFaXrg5mbmb",
        "outputId": "a37cfe2b-4fc7-48bd-9430-591ab5b2e8ef"
      },
      "source": [
        "#Drop rows where sedes_conectadas_a_internet is NaN\n",
        "education_resume_df.dropna(subset=['sedes_conectadas_a_internet'],inplace=True)\n",
        "education_resume_df.info()"
      ],
      "execution_count": null,
      "outputs": [
        {
          "output_type": "stream",
          "name": "stdout",
          "text": [
            "<class 'pandas.core.frame.DataFrame'>\n",
            "Int64Index: 231 entries, 0 to 230\n",
            "Data columns (total 8 columns):\n",
            " #   Column                       Non-Null Count  Dtype  \n",
            "---  ------                       --------------  -----  \n",
            " 0   ano                          231 non-null    int64  \n",
            " 1   c_digo_departamento          231 non-null    int64  \n",
            " 2   departamento                 231 non-null    object \n",
            " 3   sedes_conectadas_a_internet  231 non-null    float64\n",
            " 4   desercion                    231 non-null    float64\n",
            " 5   aprobacion                   231 non-null    float64\n",
            " 6   reprobacion                  231 non-null    float64\n",
            " 7   repitencia                   231 non-null    float64\n",
            "dtypes: float64(5), int64(2), object(1)\n",
            "memory usage: 16.2+ KB\n"
          ]
        }
      ]
    },
    {
      "cell_type": "markdown",
      "metadata": {
        "id": "QNEIWZYU9tND"
      },
      "source": [
        "In order to understand the data better, descriptive statistics will be applied to the dataset"
      ]
    },
    {
      "cell_type": "code",
      "metadata": {
        "colab": {
          "base_uri": "https://localhost:8080/",
          "height": 300
        },
        "id": "L64fJdNdnjK2",
        "outputId": "8125d19f-f883-4570-9cfd-ef4da68c52ad"
      },
      "source": [
        "#Generates descriptive statistics\n",
        "education_resume_df.describe()"
      ],
      "execution_count": null,
      "outputs": [
        {
          "output_type": "execute_result",
          "data": {
            "text/html": [
              "<div>\n",
              "<style scoped>\n",
              "    .dataframe tbody tr th:only-of-type {\n",
              "        vertical-align: middle;\n",
              "    }\n",
              "\n",
              "    .dataframe tbody tr th {\n",
              "        vertical-align: top;\n",
              "    }\n",
              "\n",
              "    .dataframe thead th {\n",
              "        text-align: right;\n",
              "    }\n",
              "</style>\n",
              "<table border=\"1\" class=\"dataframe\">\n",
              "  <thead>\n",
              "    <tr style=\"text-align: right;\">\n",
              "      <th></th>\n",
              "      <th>ano</th>\n",
              "      <th>c_digo_departamento</th>\n",
              "      <th>sedes_conectadas_a_internet</th>\n",
              "      <th>desercion</th>\n",
              "      <th>aprobacion</th>\n",
              "      <th>reprobacion</th>\n",
              "      <th>repitencia</th>\n",
              "    </tr>\n",
              "  </thead>\n",
              "  <tbody>\n",
              "    <tr>\n",
              "      <th>count</th>\n",
              "      <td>231.000000</td>\n",
              "      <td>231.000000</td>\n",
              "      <td>231.000000</td>\n",
              "      <td>231.000000</td>\n",
              "      <td>231.000000</td>\n",
              "      <td>231.000000</td>\n",
              "      <td>231.000000</td>\n",
              "    </tr>\n",
              "    <tr>\n",
              "      <th>mean</th>\n",
              "      <td>2014.000000</td>\n",
              "      <td>52.151515</td>\n",
              "      <td>34.903420</td>\n",
              "      <td>4.242338</td>\n",
              "      <td>91.461861</td>\n",
              "      <td>4.306537</td>\n",
              "      <td>2.300303</td>\n",
              "    </tr>\n",
              "    <tr>\n",
              "      <th>std</th>\n",
              "      <td>2.004343</td>\n",
              "      <td>30.857576</td>\n",
              "      <td>21.374901</td>\n",
              "      <td>1.856590</td>\n",
              "      <td>4.720352</td>\n",
              "      <td>3.628532</td>\n",
              "      <td>1.635868</td>\n",
              "    </tr>\n",
              "    <tr>\n",
              "      <th>min</th>\n",
              "      <td>2011.000000</td>\n",
              "      <td>5.000000</td>\n",
              "      <td>0.000000</td>\n",
              "      <td>0.630000</td>\n",
              "      <td>73.920000</td>\n",
              "      <td>0.000000</td>\n",
              "      <td>0.100000</td>\n",
              "    </tr>\n",
              "    <tr>\n",
              "      <th>25%</th>\n",
              "      <td>2012.000000</td>\n",
              "      <td>20.000000</td>\n",
              "      <td>20.255000</td>\n",
              "      <td>2.965000</td>\n",
              "      <td>89.210000</td>\n",
              "      <td>1.380000</td>\n",
              "      <td>1.210000</td>\n",
              "    </tr>\n",
              "    <tr>\n",
              "      <th>50%</th>\n",
              "      <td>2014.000000</td>\n",
              "      <td>52.000000</td>\n",
              "      <td>30.330000</td>\n",
              "      <td>3.970000</td>\n",
              "      <td>92.080000</td>\n",
              "      <td>3.520000</td>\n",
              "      <td>1.870000</td>\n",
              "    </tr>\n",
              "    <tr>\n",
              "      <th>75%</th>\n",
              "      <td>2016.000000</td>\n",
              "      <td>81.000000</td>\n",
              "      <td>42.265000</td>\n",
              "      <td>5.045000</td>\n",
              "      <td>94.985000</td>\n",
              "      <td>6.140000</td>\n",
              "      <td>2.855000</td>\n",
              "    </tr>\n",
              "    <tr>\n",
              "      <th>max</th>\n",
              "      <td>2017.000000</td>\n",
              "      <td>99.000000</td>\n",
              "      <td>100.000000</td>\n",
              "      <td>10.940000</td>\n",
              "      <td>99.080000</td>\n",
              "      <td>16.960000</td>\n",
              "      <td>11.730000</td>\n",
              "    </tr>\n",
              "  </tbody>\n",
              "</table>\n",
              "</div>"
            ],
            "text/plain": [
              "               ano  c_digo_departamento  ...  reprobacion  repitencia\n",
              "count   231.000000           231.000000  ...   231.000000  231.000000\n",
              "mean   2014.000000            52.151515  ...     4.306537    2.300303\n",
              "std       2.004343            30.857576  ...     3.628532    1.635868\n",
              "min    2011.000000             5.000000  ...     0.000000    0.100000\n",
              "25%    2012.000000            20.000000  ...     1.380000    1.210000\n",
              "50%    2014.000000            52.000000  ...     3.520000    1.870000\n",
              "75%    2016.000000            81.000000  ...     6.140000    2.855000\n",
              "max    2017.000000            99.000000  ...    16.960000   11.730000\n",
              "\n",
              "[8 rows x 7 columns]"
            ]
          },
          "metadata": {},
          "execution_count": 25
        }
      ]
    },
    {
      "cell_type": "markdown",
      "metadata": {
        "id": "tF_SGU6x9xgY"
      },
      "source": [
        "<p align='justify'>From the results, it can be pointed out that on average only 34.9% of the educational institutions have internet service, 4.24% of students drop out of school, 91.46% of students approve, 4.31% of students fail, and 2.30% repeat grade.<p>\n",
        "\n",
        "<p align='justify'>In order to make a high level analysis, a visualization can be adequate. First, we identify that our dataset is a table. Regarding the type of attributes, the indicators are quantitative attributes, and 'ano' and 'sedes_conectadas_a_internet' are also quantitative attributes. The objetive of the visualization will be to identify a correlation between 'sedes_conectas_a_internet' and the educational indicators, so a scatter plot its an optimal way to achieve the objective.<p>"
      ]
    },
    {
      "cell_type": "code",
      "metadata": {
        "colab": {
          "base_uri": "https://localhost:8080/"
        },
        "id": "S6Ekan7MzYDF",
        "outputId": "2e387571-b9c5-4776-c743-917aa3a38615"
      },
      "source": [
        "fig = plt.figure(figsize=(20,15))\n",
        "\n",
        "ax1=fig.add_subplot(2,2,1)\n",
        "education_resume_df.plot(kind='scatter',x='sedes_conectadas_a_internet',y='desercion',ax=ax1)\n",
        "ax1.set_title('State dropout percentage vs State percentage of educational institutions with internet')\n",
        "ax1.set_xlabel('Educational institutions with internet %')\n",
        "ax1.set_ylabel('School dropout %')\n",
        "\n",
        "ax2=fig.add_subplot(2,2,2)\n",
        "education_resume_df.plot(kind='scatter',x='sedes_conectadas_a_internet',y='aprobacion',ax=ax2)\n",
        "ax2.set_title('State approval percentage vs State percentage of educational institutions with internet')\n",
        "ax2.set_xlabel('Educational institutions with internet %')\n",
        "ax2.set_ylabel('School approval %')\n",
        "\n",
        "ax3=fig.add_subplot(2,2,3)\n",
        "education_resume_df.plot(kind='scatter',x='sedes_conectadas_a_internet',y='reprobacion',ax=ax3)\n",
        "ax3.set_title('State failure percentage vs State percentage of educational institutions with internet')\n",
        "ax3.set_xlabel('Educational institutions with internet %')\n",
        "ax3.set_ylabel('School failure %')\n",
        "\n",
        "ax4=fig.add_subplot(2,2,4)\n",
        "education_resume_df.plot(kind='scatter',x='sedes_conectadas_a_internet',y='repitencia',ax=ax4)\n",
        "ax4.set_title('State failure percentage vs State percentage of educational institutions with internet')\n",
        "ax4.set_xlabel('Educational institutions with internet %')\n",
        "ax4.set_ylabel('School failure %')\n",
        "\n",
        "\n",
        "plt.show()"
      ],
      "execution_count": null,
      "outputs": [
        {
          "output_type": "display_data",
          "data": {
            "image/png": "[encoded data removed]",
            "text/plain": [
              "<Figure size 1440x1080 with 4 Axes>"
            ]
          },
          "metadata": {
            "needs_background": "light"
          }
        }
      ]
    },
    {
      "cell_type": "markdown",
      "metadata": {
        "id": "uYaXYmseIcOe"
      },
      "source": [
        "<p align='justify'>The visualization shows a slight correlation between dropout and percentage of educational institutions with internet, and also a slight correlation between approval and percentage of educational institutions with internet. This is not the case for failure and repetition.<p>\n",
        "\n",
        "<p align='justify'>Nevertheless, to measure precisely and with a probabilistic approach the level of correlation, a correlation coefficient should be calculated.<p>\n",
        "\n",
        "<p align='justify'>To calculate the correlation coefficient through the Pearson method, the normal distribution variable assumption must be verified. For this, a q-q visualization is acceptable.<p>"
      ]
    },
    {
      "cell_type": "code",
      "metadata": {
        "colab": {
          "base_uri": "https://localhost:8080/",
          "height": 54
        },
        "id": "jEgqen_FujkL",
        "outputId": "87238772-d696-4c0d-ed9c-6cb5bbb93ec9"
      },
      "source": [
        "#Generates QQ plot of interest variables\n",
        "\n",
        "fig = plt.figure(figsize=(20,20)) # Mejoramos la visibilidad de la gráfica.\n",
        "ax1 = fig.add_subplot(3,2,1)\n",
        "stats.probplot(education_resume_df['sedes_conectadas_a_internet'], plot=ax1)\n",
        "ax1.set_title('Q-Q plot of variable \"state percentage of schools with internet service\"')\n",
        "\n",
        "ax2 = fig.add_subplot(3,2,2)\n",
        "stats.probplot(education_resume_df['desercion'], plot= ax2)\n",
        "ax2.set_title('Q-Q plot of variable \"state percentage of school dropout\"')\n",
        "\n",
        "\n",
        "ax3 = fig.add_subplot(3,2,3)\n",
        "stats.probplot(education_resume_df['aprobacion'], plot= ax3)\n",
        "ax3.set_title('Q-Q plot of variable \"state percentage of school approval\"')\n",
        "\n",
        "ax4 = fig.add_subplot(3,2,4)\n",
        "stats.probplot(education_resume_df['reprobacion'], plot= ax4)\n",
        "ax4.set_title('Q-Q plot of variable \"state percentage of school disapproval\"')\n",
        "\n",
        "ax5 = fig.add_subplot(3,2,5)\n",
        "stats.probplot(education_resume_df['repitencia'], plot= ax5)\n",
        "ax5.set_title('Q-Q plot of variable \"state percentage of school repetition\"')\n",
        "\n",
        "plt.show()"
      ],
      "execution_count": null,
      "outputs": [
        {
          "output_type": "display_data",
          "data": {
            "image/png": "[encoded data removed]",
            "text/plain": [
              "<Figure size 1440x1440 with 5 Axes>"
            ]
          },
          "metadata": {
            "needs_background": "light"
          }
        }
      ]
    },
    {
      "cell_type": "markdown",
      "metadata": {
        "id": "hCZnmG1LPLFw"
      },
      "source": [
        "It can be pointed out from the visualization that all variables deviate from normality, but a normality test, like Shapiro-Wilk, gives a more trustworthy result."
      ]
    },
    {
      "cell_type": "code",
      "metadata": {
        "id": "-SpVcEEu8GXO"
      },
      "source": [
        "#Function prints shapiro test results\n",
        "def shapiro_test_with_significance(a):\n",
        "  coef, p = stats.shapiro(a)\n",
        "  print(f'Estadistico W: {coef:.2f}')\n",
        "\n",
        "  if p > 0.05:\n",
        "    print(f\"The sample came from a normal distribution (don't reject H0) p = {p:.3f}\")\n",
        "  else:\n",
        "    print(f\"The sample didn't came from a normal distribution (reject H0) p = {p:.3f}\")"
      ],
      "execution_count": null,
      "outputs": []
    },
    {
      "cell_type": "code",
      "metadata": {
        "colab": {
          "base_uri": "https://localhost:8080/"
        },
        "id": "2KCA7_lt2xVj",
        "outputId": "c2185902-8239-41ae-f2d7-47f1bb592ab9"
      },
      "source": [
        "#Executes Shapiro-Wilk test on interest variables\n",
        "\n",
        "shapiro_test_with_significance(education_resume_df['sedes_conectadas_a_internet'])\n",
        "shapiro_test_with_significance(education_resume_df['desercion'])\n",
        "shapiro_test_with_significance(education_resume_df['aprobacion'])\n",
        "shapiro_test_with_significance(education_resume_df['reprobacion'])\n",
        "shapiro_test_with_significance(education_resume_df['repitencia'])"
      ],
      "execution_count": null,
      "outputs": [
        {
          "output_type": "stream",
          "name": "stdout",
          "text": [
            "Estadistico W: 0.88\n",
            "The sample didn't came from a normal distribution (reject H0) p = 0.000\n",
            "Estadistico W: 0.94\n",
            "The sample didn't came from a normal distribution (reject H0) p = 0.000\n",
            "Estadistico W: 0.89\n",
            "The sample didn't came from a normal distribution (reject H0) p = 0.000\n",
            "Estadistico W: 0.90\n",
            "The sample didn't came from a normal distribution (reject H0) p = 0.000\n",
            "Estadistico W: 0.82\n",
            "The sample didn't came from a normal distribution (reject H0) p = 0.000\n"
          ]
        }
      ]
    },
    {
      "cell_type": "markdown",
      "metadata": {
        "id": "DDpseVxiUTo6"
      },
      "source": [
        "From these results it can be stated that none of the interest variables come from a normal distribution, so a non-parametric method for the calculation of the correlation coefficient, like the Spearman coefficient, it's reasonable."
      ]
    },
    {
      "cell_type": "code",
      "metadata": {
        "id": "IgtAcT6_6S0h"
      },
      "source": [
        "#Function prints spearman correlation coefficient calculus results\n",
        "def spearmanr_correlation_with_significance(a, b):\n",
        "  coef, p = stats.spearmanr(a, b)\n",
        "  print(f'Spearman correlation coefficient: {coef:.2f}')\n",
        "\n",
        "  if p > 0.05:\n",
        "    print(f\"The variables are not correlated (dont' reject H0) p = {p:.3f}\")\n",
        "  else:\n",
        "    print(f'The variables are correlated (reject H0) p = {p:.3f}')"
      ],
      "execution_count": null,
      "outputs": []
    },
    {
      "cell_type": "code",
      "metadata": {
        "colab": {
          "base_uri": "https://localhost:8080/"
        },
        "id": "8qnDTrOi5Poo",
        "outputId": "9f1d01d2-0ec3-4717-91bc-01a17b5d5790"
      },
      "source": [
        "#Executes spearman correlation coefficient calculus\n",
        "spearmanr_correlation_with_significance(education_resume_df['sedes_conectadas_a_internet'], education_resume_df['desercion'])\n",
        "spearmanr_correlation_with_significance(education_resume_df['sedes_conectadas_a_internet'], education_resume_df['aprobacion'])\n",
        "spearmanr_correlation_with_significance(education_resume_df['sedes_conectadas_a_internet'], education_resume_df['reprobacion'])\n",
        "spearmanr_correlation_with_significance(education_resume_df['sedes_conectadas_a_internet'], education_resume_df['repitencia'])"
      ],
      "execution_count": null,
      "outputs": [
        {
          "output_type": "stream",
          "name": "stdout",
          "text": [
            "Spearman correlation coefficient: -0.34\n",
            "The variables are correlated (reject H0) p = 0.000\n",
            "Spearman correlation coefficient: 0.13\n",
            "The variables are correlated (reject H0) p = 0.045\n",
            "Spearman correlation coefficient: 0.01\n",
            "The variables are not correlated (dont' reject H0) p = 0.861\n",
            "Spearman correlation coefficient: -0.01\n",
            "The variables are not correlated (dont' reject H0) p = 0.841\n"
          ]
        }
      ]
    },
    {
      "cell_type": "markdown",
      "metadata": {
        "id": "rL4CoaNNgl_U"
      },
      "source": [
        "<p align='justify'>From these results, it can be stated with a 99.9% of confidence that there exists a weak correlation between school dropout percentage and percentage of educational institutions with internet service, the same goes for school approval percentage and percentage of educational institutions with internet service but with a 95% of confidence.<p>\n",
        "\n",
        "<p align='justify'>Since the level of education can be an attribute that generates variability, it's a good approach to develop the same analysis with the educational indicators discriminated by education level. For this, a Dash application is designed, in this dashboard we get the results from the Spearman correlation coefficient calculation, and scatter visualizations for the variables. However, since the variable 'desercion_transicion' has some invalid data, a new dataframe dropping invalid values from the complete dataframe will be also generated.<p>\n"
      ]
    },
    {
      "cell_type": "code",
      "metadata": {
        "id": "-sOP03Y0mEcz"
      },
      "source": [
        "#Generates default configuration for deployment of dash applications\n",
        "JupyterDash.infer_jupyter_proxy_config()"
      ],
      "execution_count": null,
      "outputs": []
    },
    {
      "cell_type": "code",
      "metadata": {
        "id": "uBtf11k1mIw_"
      },
      "source": [
        "JupyterDash.infer_jupyter_proxy_config()"
      ],
      "execution_count": null,
      "outputs": []
    },
    {
      "cell_type": "code",
      "metadata": {
        "id": "s5E2F7pdHBhs"
      },
      "source": [
        "#Function returns a string with spearman correlation coefficient calculus results\n",
        "def spearmanr_correlation_with_significance_B(a, b, c):\n",
        "  coef, p = stats.spearmanr(a, b)\n",
        "  answer = f'Spearman correlation coefficient between the percentage of educational institutions with internet and school {c} % : {coef:.2f}, '\n",
        "\n",
        "  if p > 0.05:\n",
        "    answer += f\"the variables are not correlated (dont' reject H0) p= {p:.3f}\"\n",
        "  else:\n",
        "    answer += f'the variables are correlated (reject H0) p= {p:.3f}'\n",
        "  \n",
        "  return answer"
      ],
      "execution_count": null,
      "outputs": []
    },
    {
      "cell_type": "code",
      "metadata": {
        "colab": {
          "base_uri": "https://localhost:8080/"
        },
        "id": "_zihSRKoNkND",
        "outputId": "3d7fd697-a856-4938-f08e-3d34c2cab8c7"
      },
      "source": [
        "#New dataframe from complete dataframe dropping null values in interest variables\n",
        "education_resumeB_df=education_df.dropna(subset=['sedes_conectadas_a_internet','desercion_transicion'])\n",
        "education_resumeB_df.info()"
      ],
      "execution_count": null,
      "outputs": [
        {
          "output_type": "stream",
          "name": "stdout",
          "text": [
            "<class 'pandas.core.frame.DataFrame'>\n",
            "Int64Index: 230 entries, 0 to 230\n",
            "Data columns (total 37 columns):\n",
            " #   Column                       Non-Null Count  Dtype  \n",
            "---  ------                       --------------  -----  \n",
            " 0   ano                          230 non-null    int64  \n",
            " 1   c_digo_departamento          230 non-null    int64  \n",
            " 2   departamento                 230 non-null    object \n",
            " 3   poblacion_5_16               230 non-null    int64  \n",
            " 4   tasa_matriculacion_5_16      230 non-null    float64\n",
            " 5   cobertura_neta               230 non-null    float64\n",
            " 6   cobertura_neta_transicion    230 non-null    float64\n",
            " 7   cobertura_neta_primaria      230 non-null    float64\n",
            " 8   cobertura_neta_secundaria    230 non-null    float64\n",
            " 9   cobertura_neta_media         230 non-null    float64\n",
            " 10  cobertura_bruta              230 non-null    float64\n",
            " 11  cobertura_bruta_transicion   230 non-null    float64\n",
            " 12  cobertura_bruta_primaria     230 non-null    float64\n",
            " 13  cobertura_bruta_secundaria   230 non-null    float64\n",
            " 14  cobertura_bruta_media        230 non-null    float64\n",
            " 15  tamano_promedio_grupo        230 non-null    float64\n",
            " 16  sedes_conectadas_a_internet  230 non-null    float64\n",
            " 17  desercion                    230 non-null    float64\n",
            " 18  desercion_transicion         230 non-null    float64\n",
            " 19  desercion_primaria           230 non-null    float64\n",
            " 20  desercion_secundaria         230 non-null    float64\n",
            " 21  desercion_media              230 non-null    float64\n",
            " 22  aprobacion                   230 non-null    float64\n",
            " 23  aprobacion_transicion        230 non-null    float64\n",
            " 24  aprobacion_primaria          230 non-null    float64\n",
            " 25  aprobacion_secundaria        230 non-null    float64\n",
            " 26  aprobacion_media             230 non-null    float64\n",
            " 27  reprobacion                  230 non-null    float64\n",
            " 28  reprobacion_transicion       230 non-null    float64\n",
            " 29  reprobacion_primaria         230 non-null    float64\n",
            " 30  reprobacion_secundaria       230 non-null    float64\n",
            " 31  reprobacion_media            230 non-null    float64\n",
            " 32  repitencia                   230 non-null    float64\n",
            " 33  repitencia_transicion        230 non-null    float64\n",
            " 34  repitencia_primaria          230 non-null    float64\n",
            " 35  repitencia_secundaria        230 non-null    float64\n",
            " 36  repitencia_media             230 non-null    float64\n",
            "dtypes: float64(33), int64(3), object(1)\n",
            "memory usage: 68.3+ KB\n"
          ]
        }
      ]
    },
    {
      "cell_type": "code",
      "metadata": {
        "colab": {
          "base_uri": "https://localhost:8080/"
        },
        "id": "-QOcQ7bTmLdI",
        "outputId": "d934ebf1-2ee9-4e04-e41e-ffcb2d578528"
      },
      "source": [
        "#Creates a dash application\n",
        "app = JupyterDash(__name__)\n",
        "\n",
        "\n",
        "#Defines app layout\n",
        "app.layout=html.Div(children=[\n",
        "                             \n",
        "                             html.Div([html.Label('Education Level'), dcc.Dropdown(id='education-level', value='primary', options=[\n",
        "                                                                                                                                   {'label':'Pre-education', 'value':'pre'},\n",
        "                                                                                                                                   {'label':'Primary education', 'value':'primary'},\n",
        "                                                                                                                                   {'label':'Secondary education', 'value':'secondary'}\n",
        "                                                                                                                                   \n",
        "                                                                                                                                    ]\n",
        "                                                                                   )\n",
        "                                     ]),\n",
        "                              \n",
        "                             html.Div([\n",
        "                                       html.P(id='p-dropout'),\n",
        "                                       html.P(id='p-approval'),\n",
        "                                       html.P(id='p-failure'),\n",
        "                                       html.P(id='p-repetition')\n",
        "                                       ]),\n",
        "                        \n",
        "                             html.Div([\n",
        "                                       html.Div(dcc.Graph(id='dropout')),\n",
        "                                       html.Div(dcc.Graph(id='approval'))\n",
        "                                      ], style = {'display':'flex'}),\n",
        "\n",
        "                             html.Div([\n",
        "                                       html.Div(dcc.Graph(id='failure')),\n",
        "                                       html.Div(dcc.Graph(id='repetition'))\n",
        "                                       ], style = {'display':'flex'})\n",
        "                            ])\n",
        "\n",
        "#Callback decorator\n",
        "@app.callback(\n",
        "    [\n",
        "     Output(component_id='dropout', component_property='figure'),\n",
        "     Output(component_id='approval', component_property='figure'),\n",
        "     Output(component_id='failure', component_property='figure'),\n",
        "     Output(component_id='repetition', component_property='figure'),\n",
        "     Output(component_id='p-dropout', component_property='children'),\n",
        "     Output(component_id='p-approval', component_property='children'),\n",
        "     Output(component_id='p-failure', component_property='children'),\n",
        "     Output(component_id='p-repetition', component_property='children')\n",
        "    ],\n",
        "    Input(component_id='education-level', component_property='value')\n",
        ")\n",
        "def get_graphs(education_level):\n",
        "  if education_level =='pre':\n",
        "    dropout = px.scatter(education_resumeB_df,x='sedes_conectadas_a_internet', y='desercion_transicion', labels={'sedes_conectadas_a_internet':'Educational institutions with internet %',\n",
        "                                                                                                         'desercion_transicion':'School dropout %'},\n",
        "                         title='State dropout % vs State % of educational institutions with internet')\n",
        "    approval = px.scatter(education_resumeB_df,x='sedes_conectadas_a_internet', y='aprobacion_transicion', labels={'sedes_conectadas_a_internet':'Educational institutions with internet %',\n",
        "                                                                                                         'aprobacion_transicion':'School approval %'},\n",
        "                         title='State approval % vs State % of educational institutions with internet')\n",
        "    failure = px.scatter(education_resumeB_df,x='sedes_conectadas_a_internet', y='reprobacion_transicion', labels={'sedes_conectadas_a_internet':'Educational institutions with internet %',\n",
        "                                                                                                         'reprobacion_transicion':'School failure %'},\n",
        "                         title='State failure % vs State % of educational institutions with internet')\n",
        "    repetition = px.scatter(education_resumeB_df,x='sedes_conectadas_a_internet', y='repitencia_transicion', labels={'sedes_conectadas_a_internet':'Educational institutions with internet %',\n",
        "                                                                                                         'repitencia_transicion':'School repetition %'},\n",
        "                         title='State repetition % vs State % of educational institutions with internet')\n",
        "    dropout.update_layout(title_font_size=16)\n",
        "    approval.update_layout(title_font_size=16)\n",
        "    failure.update_layout(title_font_size=16)\n",
        "    repetition.update_layout(title_font_size=16)\n",
        "\n",
        "    pdropout = spearmanr_correlation_with_significance_B(education_resumeB_df['desercion_transicion'],education_resumeB_df['sedes_conectadas_a_internet'],\"dropout\")\n",
        "    papproval = spearmanr_correlation_with_significance_B(education_resumeB_df['aprobacion_transicion'],education_resumeB_df['sedes_conectadas_a_internet'],\"approval\")\n",
        "    pfailure = spearmanr_correlation_with_significance_B(education_resumeB_df['reprobacion_transicion'],education_resumeB_df['sedes_conectadas_a_internet'],\"failure\")\n",
        "    prepetition = spearmanr_correlation_with_significance_B(education_resumeB_df['repitencia_transicion'],education_resumeB_df['sedes_conectadas_a_internet'],\"repetition\")\n",
        "  elif education_level=='primary':\n",
        "\n",
        "    dropout = px.scatter(education_resumeB_df,x='sedes_conectadas_a_internet', y='desercion_primaria', labels={'sedes_conectadas_a_internet':'Educational institutions with internet %',\n",
        "                                                                                                         'desercion_primaria':'School dropout %'},\n",
        "                         title='State dropout % vs State % of educational institutions with internet')\n",
        "          \n",
        "    approval = px.scatter(education_resumeB_df,x='sedes_conectadas_a_internet', y='aprobacion_primaria', labels={'sedes_conectadas_a_internet':'Educational institutions with internet %',\n",
        "                                                                                                         'aprobacion_primaria':'School approval %'},\n",
        "                         title='State approval % vs State % of educational institutions with internet')\n",
        "          \n",
        "    failure = px.scatter(education_resumeB_df,x='sedes_conectadas_a_internet', y='reprobacion_primaria', labels={'sedes_conectadas_a_internet':'Educational institutions with internet %',\n",
        "                                                                                                         'reprobacion_primaria':'School failure %'},\n",
        "                         title='State failure % vs State % of educational institutions with internet')\n",
        "          \n",
        "    repetition = px.scatter(education_resumeB_df,x='sedes_conectadas_a_internet', y='repitencia_primaria', labels={'sedes_conectadas_a_internet':'Educational institutions with internet %',\n",
        "                                                                                                         'repitencia_primaria':'School repetition %'},\n",
        "                         title='State repetition % vs State % of educational institutions with internet')\n",
        "    dropout.update_layout(title_font_size=16)\n",
        "    approval.update_layout(title_font_size=16)\n",
        "    failure.update_layout(title_font_size=16)\n",
        "    repetition.update_layout(title_font_size=16)\n",
        "\n",
        "    pdropout = spearmanr_correlation_with_significance_B(education_resumeB_df['desercion_primaria'],education_resumeB_df['sedes_conectadas_a_internet'],\"dropout\")\n",
        "    papproval = spearmanr_correlation_with_significance_B(education_resumeB_df['aprobacion_primaria'],education_resumeB_df['sedes_conectadas_a_internet'],\"approval\")\n",
        "    pfailure = spearmanr_correlation_with_significance_B(education_resumeB_df['reprobacion_primaria'],education_resumeB_df['sedes_conectadas_a_internet'],\"failure\")\n",
        "    prepetition = spearmanr_correlation_with_significance_B(education_resumeB_df['repitencia_primaria'],education_resumeB_df['sedes_conectadas_a_internet'],\"repetition\")\n",
        "  \n",
        "  else:\n",
        "\n",
        "    dropout = px.scatter(education_resumeB_df,x='sedes_conectadas_a_internet', y='desercion_secundaria', labels={'sedes_conectadas_a_internet':'Educational institutions with internet %',\n",
        "                                                                                                         'desercion_secundaria':'School dropout %'},\n",
        "                         title='State dropout % vs State % of educational institutions with internet')\n",
        "          \n",
        "    approval = px.scatter(education_resumeB_df,x='sedes_conectadas_a_internet', y='aprobacion_secundaria', labels={'sedes_conectadas_a_internet':'Educational institutions with internet %',\n",
        "                                                                                                         'aprobacion_secundaria':'School approval %'},\n",
        "                         title='State approval % vs State % of educational institutions with internet')\n",
        "          \n",
        "    failure = px.scatter(education_resumeB_df,x='sedes_conectadas_a_internet', y='reprobacion_secundaria', labels={'sedes_conectadas_a_internet':'Educational institutions with internet %',\n",
        "                                                                                                         'reprobacion_secundaria':'School failure %'},\n",
        "                         title='State failure % vs State % of educational institutions with internet')\n",
        "          \n",
        "    repetition = px.scatter(education_resumeB_df,x='sedes_conectadas_a_internet', y='repitencia_secundaria', labels={'sedes_conectadas_a_internet':'Educational institutions with internet %',\n",
        "                                                                                                         'repitencia_secundaria':'School repetition %'},\n",
        "                         title='State repetition % vs State % of educational institutions with internet')\n",
        "    dropout.update_layout(title_font_size=16)\n",
        "    approval.update_layout(title_font_size=16)\n",
        "    failure.update_layout(title_font_size=16)\n",
        "    repetition.update_layout(title_font_size=16)\n",
        "\n",
        "    pdropout = spearmanr_correlation_with_significance_B(education_resumeB_df['desercion_secundaria'],education_resumeB_df['sedes_conectadas_a_internet'],\"dropout\")\n",
        "    papproval = spearmanr_correlation_with_significance_B(education_resumeB_df['aprobacion_secundaria'],education_resumeB_df['sedes_conectadas_a_internet'],\"approval\")\n",
        "    pfailure = spearmanr_correlation_with_significance_B(education_resumeB_df['reprobacion_secundaria'],education_resumeB_df['sedes_conectadas_a_internet'],\"failure\")\n",
        "    prepetition = spearmanr_correlation_with_significance_B(education_resumeB_df['repitencia_secundaria'],education_resumeB_df['sedes_conectadas_a_internet'],\"repetition\")\n",
        "  \n",
        "  return [dropout, approval, failure, repetition, pdropout, papproval, pfailure, prepetition]\n",
        "\n",
        "if __name__ == '__main__':\n",
        "  app.run_server(mode='inline',host='localhost',port='8000')"
      ],
      "execution_count": null,
      "outputs": [
        {
          "output_type": "display_data",
          "data": {
            "application/javascript": [
              "(async (port, path, width, height, cache, element) => {\n",
              "    if (!google.colab.kernel.accessAllowed && !cache) {\n",
              "      return;\n",
              "    }\n",
              "    element.appendChild(document.createTextNode(''));\n",
              "    const url = await google.colab.kernel.proxyPort(port, {cache});\n",
              "    const iframe = document.createElement('iframe');\n",
              "    iframe.src = new URL(path, url).toString();\n",
              "    iframe.height = height;\n",
              "    iframe.width = width;\n",
              "    iframe.style.border = 0;\n",
              "    element.appendChild(iframe);\n",
              "  })(8000, \"/\", \"100%\", 650, false, window.element)"
            ],
            "text/plain": [
              "<IPython.core.display.Javascript object>"
            ]
          },
          "metadata": {}
        }
      ]
    },
    {
      "cell_type": "markdown",
      "metadata": {
        "id": "RfewCzyOuUBa"
      },
      "source": [
        "<p align='justify'>From the dashboard, it can be argued that for pre-education we get the same result as in the undiscriminated analysis, the results show a weak correlation between school dropout percentage and percentage of educational institutions with internet service, and the same goes for approval percentage. For primary and secondary the same result is obtained but with slightly but not significant changes in magnitude.<p>\n",
        "\n",
        "<p align='justify'>Thus, through all the analysis we can conclude that there exists a weak correlation between school dropout and approval percentage, and the percentage of educational institutions with internet service. No correlation is observed for the school failure and repetition percentages.<p>\n"
      ]
    },
    {
      "cell_type": "markdown",
      "metadata": {
        "id": "d1lX6oO0P3em"
      },
      "source": [
        "#Bibliografia\n",
        "\n",
        "<p align='justify'>[1]\"Education for Sustainable Development Goals\", Unesco.de, 2017. [Online]. Available: https://www.unesco.de/sites/default/files/2018-08/unesco_education_for_sustainable_development_goals.pdf. [Accessed: 25- Sep- 2021].\n",
        "\n",
        "<p align='justify'>[2]\"Internet Access and Education: Key considerations for policy makers - Internet Society\", Internet Society, 2021. [Online]. Available: https://www.internetsociety.org/resources/doc/2017/internet-access-and-education/. [Accessed: 25- Sep- 2021]."
      ]
    }
  ]
}